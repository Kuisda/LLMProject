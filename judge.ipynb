{
 "cells": [
  {
   "cell_type": "code",
   "execution_count": 1,
   "metadata": {},
   "outputs": [
    {
     "name": "stdout",
     "output_type": "stream",
     "text": [
      "dataset:mgsm_en\n",
      "data size:250\n",
      "0.864\n",
      "216/250\n"
     ]
    }
   ],
   "source": [
    "from utils import *\n",
    "from interface import TextInterface,ResultInterface\n",
    "\n",
    "'''\n",
    "这是一个例子，读取请求回答保存在的jsonl文件，然后调用函数进行结果分析。\n",
    "'''\n",
    "task = \"mgsm_en\"\n",
    "questions,groundTruth = data_reader(task,\"./data/mgsm_en/mgsm_en.jsonl\")\n",
    "\n",
    "filePath = \"./result/mgsm_en_gpt-4o-mini_2024-10-31-16-42-43.jsonl\"\n",
    "preds,gt = readFromJsonl(filePath)\n",
    "\n",
    "preds_ans,gt = PostHandle(task,preds,gt)\n",
    "\n",
    "rtf = ResultInterface(\n",
    "    len(questions),\n",
    "    questions,preds,\n",
    "    preds_ans,\n",
    "    gt,\n",
    "    method_name=\"Native\",\n",
    "    dataset=task\n",
    ")\n",
    "print(rtf.acc())\n",
    "print(str(rtf.correctNum) + '/' + str(rtf.total))\n",
    "rtf.saveFault()"
   ]
  },
  {
   "cell_type": "code",
   "execution_count": 4,
   "metadata": {},
   "outputs": [],
   "source": [
    "\n",
    "def handle_zero(s:str)->str:\n",
    "    if s.find('.') == -1:\n",
    "        return s\n",
    "    sList = s.split('.')\n",
    "    assert len(sList) == 2\n",
    "    after_part = sList[-1]\n",
    "    for ch in after_part:\n",
    "        if ch !='0':\n",
    "            return s\n",
    "    return sList[0]\n",
    "\n",
    "\n",
    "assert(handle_zero('2.0')=='2')\n",
    "assert(handle_zero('231242') == '231242')\n",
    "assert(handle_zero('2.0000000')=='2')"
   ]
  }
 ],
 "metadata": {
  "kernelspec": {
   "display_name": "LLMProject",
   "language": "python",
   "name": "python3"
  },
  "language_info": {
   "codemirror_mode": {
    "name": "ipython",
    "version": 3
   },
   "file_extension": ".py",
   "mimetype": "text/x-python",
   "name": "python",
   "nbconvert_exporter": "python",
   "pygments_lexer": "ipython3",
   "version": "3.9.20"
  }
 },
 "nbformat": 4,
 "nbformat_minor": 2
}
